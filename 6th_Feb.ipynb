{
 "cells": [
  {
   "cell_type": "markdown",
   "metadata": {},
   "source": [
    "<b>Question - 1"
   ]
  },
  {
   "cell_type": "code",
   "execution_count": 88,
   "metadata": {},
   "outputs": [],
   "source": [
    "list1 = [1,2,3,4, [44,55,66, True], False, (34,56,78,89,34), {1,2,3,3,2,1}, {1:34, \"key2\": [55, 67, 78, 89], 4: (45,\n",
    "22, 61, 34)}, [56, 'data science'], 'Machine Learning']"
   ]
  },
  {
   "cell_type": "code",
   "execution_count": 89,
   "metadata": {},
   "outputs": [],
   "source": [
    "flat_list = []"
   ]
  },
  {
   "cell_type": "code",
   "execution_count": 90,
   "metadata": {},
   "outputs": [
    {
     "name": "stdout",
     "output_type": "stream",
     "text": [
      "[1, 2, 3, 4, 44, 55, 66, 34, 56, 78, 89, 34, 1, 2, 3, 1, 34, 55, 67, 78, 89, 4, 45, 22, 61, 34, 56]\n"
     ]
    }
   ],
   "source": [
    "for item in list1:\n",
    "    if type(item) is int:\n",
    "        flat_list.append(item)\n",
    "    elif type(item) is list:\n",
    "        for i in item:\n",
    "            if type(i) is int:\n",
    "                flat_list.append(i)\n",
    "    elif type(item) is tuple:\n",
    "        for j in item:\n",
    "            if type(j) is int:\n",
    "                flat_list.append(j)\n",
    "    elif type(item) is set:\n",
    "        for k in item:\n",
    "            if type(k) is int:\n",
    "                flat_list.append(k)\n",
    "    elif type(item) is dict:\n",
    "        for a,b in item.items():\n",
    "            if type(a) is int:\n",
    "                flat_list.append(a)\n",
    "            if type(b) is int:\n",
    "                flat_list.append(b)\n",
    "            elif type(b) is list:\n",
    "                for l in b:\n",
    "                    if type(l) is int:\n",
    "                        flat_list.append(l)\n",
    "            elif type(b) is tuple:\n",
    "                for m in b:\n",
    "                    if type(m) is int:\n",
    "                        flat_list.append(m)\n",
    "print(flat_list)\n"
   ]
  },
  {
   "cell_type": "code",
   "execution_count": 91,
   "metadata": {},
   "outputs": [
    {
     "data": {
      "text/plain": [
       "4134711838987085478833841242112000"
      ]
     },
     "execution_count": 91,
     "metadata": {},
     "output_type": "execute_result"
    }
   ],
   "source": [
    "from functools import reduce\n",
    "reduce(lambda x,y: x*y, flat_list)"
   ]
  },
  {
   "cell_type": "markdown",
   "metadata": {},
   "source": [
    "<b>Question - 2"
   ]
  },
  {
   "cell_type": "code",
   "execution_count": 81,
   "metadata": {},
   "outputs": [],
   "source": [
    "def encryption(sentence):\n",
    "    sentence = sentence.lower()\n",
    "    encrypted = sentence.replace(\"a\",\"x\").replace(\"b\",\"y\").replace(\"c\",\"z\").replace(\" \",\"$\")\n",
    "    return encrypted"
   ]
  },
  {
   "cell_type": "code",
   "execution_count": 82,
   "metadata": {},
   "outputs": [
    {
     "data": {
      "text/plain": [
       "'i$wxnt$to$yezome$x$dxtx$szientist.'"
      ]
     },
     "execution_count": 82,
     "metadata": {},
     "output_type": "execute_result"
    }
   ],
   "source": [
    "sentence = \"I want to become a Data Scientist.\"\n",
    "encryption(sentence)"
   ]
  },
  {
   "cell_type": "code",
   "execution_count": null,
   "metadata": {},
   "outputs": [],
   "source": []
  },
  {
   "cell_type": "code",
   "execution_count": null,
   "metadata": {},
   "outputs": [],
   "source": []
  },
  {
   "cell_type": "code",
   "execution_count": null,
   "metadata": {},
   "outputs": [],
   "source": []
  }
 ],
 "metadata": {
  "kernelspec": {
   "display_name": "Python 3",
   "language": "python",
   "name": "python3"
  },
  "language_info": {
   "codemirror_mode": {
    "name": "ipython",
    "version": 3
   },
   "file_extension": ".py",
   "mimetype": "text/x-python",
   "name": "python",
   "nbconvert_exporter": "python",
   "pygments_lexer": "ipython3",
   "version": "3.8.3"
  }
 },
 "nbformat": 4,
 "nbformat_minor": 4
}

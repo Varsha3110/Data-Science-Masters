{
 "cells": [
  {
   "cell_type": "markdown",
   "metadata": {},
   "source": [
    "<b>Question - 1"
   ]
  },
  {
   "cell_type": "markdown",
   "metadata": {},
   "source": [
    "A class is like an object constructor, or a \"blueprint\" for creating objects.\n",
    "It is created by keyword \"class\"."
   ]
  },
  {
   "cell_type": "markdown",
   "metadata": {},
   "source": [
    "The object is an entity that has a state and behaviour associated with it."
   ]
  },
  {
   "cell_type": "code",
   "execution_count": 12,
   "metadata": {},
   "outputs": [
    {
     "name": "stdout",
     "output_type": "stream",
     "text": [
      "Welcome to the world of Python\n"
     ]
    }
   ],
   "source": [
    "#Example of class and object\n",
    "\n",
    "#Creating a class\n",
    "class Random:\n",
    "    def random(self):\n",
    "        print(\"Welcome to the world of Python\")\n",
    "\n",
    "#Creating object of the Random Class:\n",
    "object = Random()\n",
    "object.random()"
   ]
  },
  {
   "cell_type": "markdown",
   "metadata": {},
   "source": [
    "<b>Question - 2"
   ]
  },
  {
   "cell_type": "markdown",
   "metadata": {},
   "source": [
    "The four pillars of Object-Oriented Programming:<br>\n",
    "1- Abstraction<br>\n",
    "2- Encapsulation<br>\n",
    "3- Inheritance<br>\n",
    "4- Polymorphism<br>"
   ]
  },
  {
   "cell_type": "markdown",
   "metadata": {},
   "source": [
    "<b>Question -3"
   ]
  },
  {
   "cell_type": "markdown",
   "metadata": {},
   "source": [
    "The __init__ method is a reserved method in python.<br>\n",
    "This method is useful to do intialization we want to do with our object.<br>\n"
   ]
  },
  {
   "cell_type": "code",
   "execution_count": 2,
   "metadata": {},
   "outputs": [
    {
     "name": "stdout",
     "output_type": "stream",
     "text": [
      "Varsha 101 10000\n"
     ]
    }
   ],
   "source": [
    "#Example\n",
    "class Student:\n",
    "    \n",
    "    def __init__ (self, name, r_no, phone_number):\n",
    "        self.name = name\n",
    "        self.r_no = r_no\n",
    "        self.phone_number = phone_number\n",
    "        \n",
    "    def details(self):\n",
    "        print(self.name, self.r_no, self.phone_number)\n",
    "\n",
    "obj = Student(\"Varsha\", 101, 10000)\n",
    "obj.details()\n",
    "        "
   ]
  },
  {
   "cell_type": "markdown",
   "metadata": {},
   "source": [
    "<b>Question - 4"
   ]
  },
  {
   "cell_type": "markdown",
   "metadata": {},
   "source": [
    "The \"self\" is used to bind the attributes with the given arguments.<br>\n",
    "The \"self\" keyword is not a reserved keyword, i.e we can use any word in place of self.<br>\n",
    "By using this we can access the attributes and methods of the class in python."
   ]
  },
  {
   "cell_type": "markdown",
   "metadata": {},
   "source": [
    "<b>Question - 5"
   ]
  },
  {
   "cell_type": "markdown",
   "metadata": {},
   "source": [
    "When the **child class** inherits the method and properties of **parent class**, this is called **Inheritance**."
   ]
  },
  {
   "cell_type": "markdown",
   "metadata": {},
   "source": [
    "**Types of Inheritance:**<br>\n",
    "1- Single Inheritance<br>\n",
    "2- Multiple Inheritance<br>\n",
    "3- Multilevel Inheritance<br>\n",
    "4- Hierarchical Inheritance<br>"
   ]
  },
  {
   "cell_type": "code",
   "execution_count": 2,
   "metadata": {},
   "outputs": [
    {
     "name": "stdout",
     "output_type": "stream",
     "text": [
      "Parent1\n",
      "Child1\n"
     ]
    }
   ],
   "source": [
    "#Example of Single Inheritance\n",
    "class Parent1:\n",
    "    def method1(self):\n",
    "        print(\"Parent1\")\n",
    "        \n",
    "class Child1(Parent1):\n",
    "    def method2(self):\n",
    "        print(\"Child1\")\n",
    "        \n",
    "obj1 = Child1()\n",
    "obj1.method1()\n",
    "obj1.method2()\n"
   ]
  },
  {
   "cell_type": "code",
   "execution_count": 3,
   "metadata": {},
   "outputs": [
    {
     "name": "stdout",
     "output_type": "stream",
     "text": [
      "Parent2\n",
      "Parent3\n",
      "Child2\n"
     ]
    }
   ],
   "source": [
    "#Example of Multiple Inheritance\n",
    "class Parent2:\n",
    "    def method3(self):\n",
    "        print(\"Parent2\")\n",
    "\n",
    "class Parent3:\n",
    "    def method4(self):\n",
    "        print(\"Parent3\")\n",
    "        \n",
    "class Child2(Parent2,Parent3):\n",
    "    def method5(self):\n",
    "        print(\"Child2\")\n",
    "        \n",
    "obj2 = Child2()\n",
    "obj2.method3()\n",
    "obj2.method4()\n",
    "obj2.method5()"
   ]
  },
  {
   "cell_type": "code",
   "execution_count": 4,
   "metadata": {},
   "outputs": [
    {
     "name": "stdout",
     "output_type": "stream",
     "text": [
      "Parent4\n",
      "Child3\n",
      "Child4\n"
     ]
    }
   ],
   "source": [
    "#Example of Multilevel Inheritance\n",
    "class Parent4:\n",
    "    def method6(self):\n",
    "        print(\"Parent4\")\n",
    "\n",
    "class Child3(Parent4):\n",
    "    def method7(self):\n",
    "        print(\"Child3\")\n",
    "        \n",
    "class Child4(Child3):\n",
    "    def method8(self):\n",
    "        print(\"Child4\")\n",
    "        \n",
    "obj3 = Child4()\n",
    "obj3.method6()\n",
    "obj3.method7()\n",
    "obj3.method8()"
   ]
  },
  {
   "cell_type": "code",
   "execution_count": 8,
   "metadata": {},
   "outputs": [
    {
     "name": "stdout",
     "output_type": "stream",
     "text": [
      "Child5\n",
      "Parent5\n",
      "Child6\n",
      "Parent5\n",
      "Child7\n",
      "Parent5\n"
     ]
    }
   ],
   "source": [
    "#Example of Hierarchical Inheritance\n",
    "class Parent5:\n",
    "    def method9(self):\n",
    "        print(\"Parent5\")\n",
    "    \n",
    "class Child5(Parent5):\n",
    "    def method10(self):\n",
    "        print(\"Child5\")\n",
    "        \n",
    "class Child6(Parent5):\n",
    "    def method11(self):\n",
    "        print(\"Child6\")\n",
    "        \n",
    "class Child7(Parent5):\n",
    "    def method12(self):\n",
    "        print(\"Child7\")\n",
    "        \n",
    "obj4 = Child5()\n",
    "obj4.method10()\n",
    "obj4.method9()\n",
    "\n",
    "obj5 = Child6()\n",
    "obj5.method11()\n",
    "obj5.method9()\n",
    "\n",
    "obj6 = Child7()\n",
    "obj6.method12()\n",
    "obj6.method9()"
   ]
  },
  {
   "cell_type": "code",
   "execution_count": null,
   "metadata": {},
   "outputs": [],
   "source": []
  }
 ],
 "metadata": {
  "kernelspec": {
   "display_name": "Python 3",
   "language": "python",
   "name": "python3"
  },
  "language_info": {
   "codemirror_mode": {
    "name": "ipython",
    "version": 3
   },
   "file_extension": ".py",
   "mimetype": "text/x-python",
   "name": "python",
   "nbconvert_exporter": "python",
   "pygments_lexer": "ipython3",
   "version": "3.8.3"
  }
 },
 "nbformat": 4,
 "nbformat_minor": 4
}
